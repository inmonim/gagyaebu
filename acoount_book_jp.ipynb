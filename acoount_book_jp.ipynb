{
 "cells": [
  {
   "cell_type": "code",
   "execution_count": 19,
   "metadata": {},
   "outputs": [],
   "source": [
    "import pandas as pd\n",
    "import numpy as np"
   ]
  },
  {
   "cell_type": "code",
   "execution_count": 20,
   "metadata": {},
   "outputs": [],
   "source": [
    "df = pd.read_excel('./가계부.xlsx')\n",
    "setting = pd.read_excel('./setting.xlsx')"
   ]
  },
  {
   "cell_type": "code",
   "execution_count": 59,
   "metadata": {},
   "outputs": [
    {
     "data": {
      "text/plain": [
       "True"
      ]
     },
     "execution_count": 59,
     "metadata": {},
     "output_type": "execute_result"
    }
   ],
   "source": [
    "setting.loc[:, '고정항목 소분류'][0] == False"
   ]
  },
  {
   "cell_type": "code",
   "execution_count": 3,
   "metadata": {},
   "outputs": [
    {
     "data": {
      "text/html": [
       "<div>\n",
       "<style scoped>\n",
       "    .dataframe tbody tr th:only-of-type {\n",
       "        vertical-align: middle;\n",
       "    }\n",
       "\n",
       "    .dataframe tbody tr th {\n",
       "        vertical-align: top;\n",
       "    }\n",
       "\n",
       "    .dataframe thead th {\n",
       "        text-align: right;\n",
       "    }\n",
       "</style>\n",
       "<table border=\"1\" class=\"dataframe\">\n",
       "  <thead>\n",
       "    <tr style=\"text-align: right;\">\n",
       "      <th></th>\n",
       "      <th>기본연도</th>\n",
       "      <th>기본월</th>\n",
       "      <th>자동저장</th>\n",
       "      <th>고정항목 자동선택</th>\n",
       "      <th>고정항목 대분류</th>\n",
       "      <th>고정항목 소분류</th>\n",
       "    </tr>\n",
       "  </thead>\n",
       "  <tbody>\n",
       "    <tr>\n",
       "      <th>0</th>\n",
       "      <td>2021.0</td>\n",
       "      <td>8.0</td>\n",
       "      <td>on</td>\n",
       "      <td>on</td>\n",
       "      <td>구독</td>\n",
       "      <td>월세</td>\n",
       "    </tr>\n",
       "    <tr>\n",
       "      <th>1</th>\n",
       "      <td>NaN</td>\n",
       "      <td>NaN</td>\n",
       "      <td>NaN</td>\n",
       "      <td>NaN</td>\n",
       "      <td>집</td>\n",
       "      <td>NaN</td>\n",
       "    </tr>\n",
       "  </tbody>\n",
       "</table>\n",
       "</div>"
      ],
      "text/plain": [
       "     기본연도  기본월 자동저장 고정항목 자동선택 고정항목 대분류 고정항목 소분류\n",
       "0  2021.0  8.0   on        on       구독       월세\n",
       "1     NaN  NaN  NaN       NaN        집      NaN"
      ]
     },
     "execution_count": 3,
     "metadata": {},
     "output_type": "execute_result"
    }
   ],
   "source": [
    "setting"
   ]
  },
  {
   "cell_type": "markdown",
   "metadata": {},
   "source": [
    "### setting.xlsx의 기본 연도 수정"
   ]
  },
  {
   "cell_type": "code",
   "execution_count": null,
   "metadata": {},
   "outputs": [],
   "source": [
    "def fix_year(setting):\n",
    "    for q in range(4):\n",
    "        if q == 3:\n",
    "            print('입력횟수를 초과하셨어양')\n",
    "            return 'exit'\n",
    "        year = setting.loc[0, '기본연도']\n",
    "        f_year = input(f'기본 설정할 연도를 정하십시오. 현재 설정 연도 = {year} >>> ')\n",
    "        if f_year.isdigit() == True:\n",
    "            setting.loc[0, '기본연도'] = int(f_year)\n",
    "            print(f'기본 연도가 {f_year}로 바뀌었습니당')\n",
    "        else:\n",
    "            print('형식에 맞춰 입력해줘용')\n",
    "        setting.to_excel('./setting.xlsx', index=False)\n",
    "        break"
   ]
  },
  {
   "cell_type": "code",
   "execution_count": 64,
   "metadata": {},
   "outputs": [
    {
     "data": {
      "text/plain": [
       "2021.0"
      ]
     },
     "execution_count": 64,
     "metadata": {},
     "output_type": "execute_result"
    }
   ],
   "source": []
  },
  {
   "cell_type": "markdown",
   "metadata": {},
   "source": [
    "### setting.xlsx의 기본 월 수정"
   ]
  },
  {
   "cell_type": "code",
   "execution_count": null,
   "metadata": {},
   "outputs": [],
   "source": [
    "def fix_month(setting):\n",
    "    for q in range(4):\n",
    "        if q == 3:\n",
    "            print('입력횟수를 초과하셨어양')\n",
    "            return 'exit'\n",
    "        month = setting.loc[0, '기본월']\n",
    "        f_month = input(f'기본 설정할 월을 정하십시오. 현재 설정 월 = {month} >>> ')\n",
    "        if f_month.isdigit() == True:\n",
    "            setting.loc[0, '기본월'] = int(f_month)\n",
    "            print(f'기본 월이 {f_month}로 바뀌었습니당')\n",
    "        else:\n",
    "            print('형식에 맞춰 입력해줘용')\n",
    "        setting.to_excel('./setting.xlsx', index=False)\n",
    "        break"
   ]
  },
  {
   "cell_type": "markdown",
   "metadata": {},
   "source": [
    "#### 월을 직접 입력하는 함수 - dummy"
   ]
  },
  {
   "cell_type": "code",
   "execution_count": null,
   "metadata": {},
   "outputs": [],
   "source": [
    "def month_input():\n",
    "    for q in range(4):\n",
    "        if q == 3:\n",
    "            print('입력횟수를 초과하셨어양')\n",
    "            return 'exit'\n",
    "        \n",
    "        month_input = input('월을 입력하십시오.: ')\n",
    "        month_list = []\n",
    "        for i in month_input:\n",
    "            if i.isdigit() == True:\n",
    "                month_list.append(i)\n",
    "        if len(month_list) >2 or len(month_list) == 0:\n",
    "            print('형식이 맞지 않습니다. 다시 입력해주세요.')\n",
    "            continue\n",
    "\n",
    "        month_int = int(''.join(month_list))\n",
    "\n",
    "        if month_int > 12 or month_int < 1:\n",
    "            print('1월과 12월 사이로 입력해주십시오.')\n",
    "            continue\n",
    "        \n",
    "        return month_int"
   ]
  },
  {
   "cell_type": "markdown",
   "metadata": {},
   "source": [
    "#### 일 입력하는 함수"
   ]
  },
  {
   "cell_type": "code",
   "execution_count": null,
   "metadata": {},
   "outputs": [],
   "source": [
    "def day_input(month):\n",
    "    for q in range(4):\n",
    "        if q == 3:\n",
    "            print('입력회수 초과! 처음으로 돌아갑니당')\n",
    "            return 'exit'\n",
    "\n",
    "        day_input = input('일을 입력해주세용 >>> ')\n",
    "        day_list = []\n",
    "\n",
    "        for i in day_input:\n",
    "            if i.isdigit() == True:\n",
    "                day_list.append(i)\n",
    "        if len(day_list) >2 or len(day_list) == 0:\n",
    "            print('형식이 맞지 않습니다. 다시 입력해주세요.')\n",
    "            continue\n",
    "\n",
    "        day_int = int(''.join(day_list))\n",
    "\n",
    "        if month == 2:\n",
    "            if day_int <1 or day_int >29:\n",
    "                print(f'{month}월은 1일부터 29일 사이로 입력해주십시오.')\n",
    "                continue\n",
    "        elif month in [1,3,5,7,8,10,12]:\n",
    "            if day_int <1 or day_int >32:\n",
    "                print(f'{month}월은 31일까지 있습니다.')\n",
    "                continue\n",
    "        else:\n",
    "            if day_int <1 or day_int >31:\n",
    "                print(f'{month}월은 30일까지 있습니다.')\n",
    "                continue\n",
    "        return day_int"
   ]
  },
  {
   "cell_type": "markdown",
   "metadata": {},
   "source": [
    "#### 수익과 지출 중 하나를 선택"
   ]
  },
  {
   "cell_type": "code",
   "execution_count": null,
   "metadata": {},
   "outputs": [],
   "source": [
    "def in_ex():\n",
    "    for q in range(4):\n",
    "        if q == 3:\n",
    "            print('입력회수 초과로 처음으로 돌아갑니다.')\n",
    "            return 'exit'\n",
    "\n",
    "        in_ex_input = input('수익 / 지출  >>> ')\n",
    "        if in_ex_input in ['수익','수입','이득']:\n",
    "            return '수익'\n",
    "        elif in_ex_input in ['지출','소비','손해']:\n",
    "            return '지출'\n",
    "        for i in in_ex_input:\n",
    "            if i in ['수','ㅅ', 'ㅇ','익','입','이','득']:\n",
    "                return '수익'\n",
    "            elif i in ['지', 'ㅈ','ㅊ','지','씀','출','손','소']:\n",
    "                return '지출'\n",
    "        else:\n",
    "            print('가능하면 알아들을 수 있게 써 주십시오.')"
   ]
  },
  {
   "cell_type": "markdown",
   "metadata": {},
   "source": [
    "#### 금액 입력(정규 표현식으로 입력 받으면 될듯?)"
   ]
  },
  {
   "cell_type": "code",
   "execution_count": null,
   "metadata": {},
   "outputs": [],
   "source": [
    "def how_much():\n",
    "    for q in range(4):\n",
    "        \n",
    "        if q == 3:\n",
    "            print('입력회수 초과로 처음으로 돌아갑니다.')\n",
    "            return 'exit'\n",
    "\n",
    "        much = input('금액 입력 (숫자로만 입력해주세요)  >>> ')\n",
    "        if much.isdigit() == True:\n",
    "            return int(much)\n",
    "        else:\n",
    "            print('다시 입력해주세용')"
   ]
  },
  {
   "cell_type": "markdown",
   "metadata": {},
   "source": [
    "#### 메인 카테고리 입력 - categorty 파라미터에는 df.columns 값이 올 수 있도록"
   ]
  },
  {
   "cell_type": "code",
   "execution_count": null,
   "metadata": {},
   "outputs": [],
   "source": [
    "def main_category(category):\n",
    "    for q in range(4):\n",
    "        if q == 3:\n",
    "            print('입력회수 초과로 처음으로 돌아갑니다.')\n",
    "            return 'exit'\n",
    "\n",
    "        main = input(f'{category} \\n 중 선택해주시기 바랍니다.  >>> ')\n",
    "        \n",
    "        if main not in category:\n",
    "            append_main = input('새로운 대분류를 추가하시겠습니까? y/n >>> ')\n",
    "            if append_main in ['y', 'Y', '네', '예']:\n",
    "                print('새로운 대분류가 추가되었습니다.')\n",
    "                return main\n",
    "            else:\n",
    "                print('대분류를 다시 입력해주시기 바랍니다.')\n",
    "                continue\n",
    "        else:\n",
    "            return main"
   ]
  },
  {
   "cell_type": "markdown",
   "metadata": {},
   "source": [
    "#### 서브 카테고리 입력 - 파라미터는 메인 카테고리와 마찬가지\n",
    "\n",
    "##### 새로운 메인 카테고리일 경우 새로운 소분류를 추가하는 방향으로 안내"
   ]
  },
  {
   "cell_type": "code",
   "execution_count": null,
   "metadata": {},
   "outputs": [],
   "source": [
    "def sub_category(sub_cat):\n",
    "    for q in range(4):\n",
    "        if q == 3:\n",
    "            print('입력회수 초과로 처음으로 돌아갑니다.')\n",
    "            return 'exit'\n",
    "\n",
    "        if len(sub_cat) == 0:\n",
    "            sub = input('새로운 소분류도 추가해주십시오. >>> ')\n",
    "            return sub\n",
    "        else:\n",
    "            sub = input(f'{sub_cat} \\n 중에서 선택해주시기바랍니다. >>> ')\n",
    "\n",
    "        if sub not in sub_cat:\n",
    "            append_sub = input('새로운 소분류를 추가하시겠습니까? y/n >>> ')\n",
    "            if append_sub in ['y','Y','네','예','ㅇ','ㅇㅇ','ㄱ','ㄱㄱ']:\n",
    "                print('새로운 소분류가 추가되었습니다.')\n",
    "                return sub\n",
    "            else:\n",
    "                print('소분류를 다시 입력해주시기 바랍니다.')\n",
    "                continue\n",
    "        else:\n",
    "            return sub"
   ]
  },
  {
   "cell_type": "markdown",
   "metadata": {},
   "source": [
    "#### 세부사항 작성"
   ]
  },
  {
   "cell_type": "code",
   "execution_count": null,
   "metadata": {},
   "outputs": [],
   "source": [
    "def detail():\n",
    "    detail = input('세부 사항에 대해 작성해주십시오. >>> ')\n",
    "    if detail == '':\n",
    "        return '없음'\n",
    "    return detail"
   ]
  },
  {
   "cell_type": "markdown",
   "metadata": {},
   "source": [
    "#### 소비자 평가.... 좀 더 재미있고 직관적이게"
   ]
  },
  {
   "cell_type": "code",
   "execution_count": null,
   "metadata": {},
   "outputs": [],
   "source": [
    "def rating():\n",
    "    for q in range(4):\n",
    "        if q == 3:\n",
    "            print('입력회수 초과로 처음으로 돌아갑니다.')\n",
    "            return 'exit'\n",
    "\n",
    "        rating_dict = {'5': '훌륭', '4': '괜찮', '3': '애매', '2':'왜샀노', '1':'흑우', '0':'킹쩔수없음'}\n",
    "\n",
    "        rating = input('소비자 평가 부탁드려요잉(0 ~ 5) >>> ')\n",
    "        if rating in ['0','1','2','3','4','5']:\n",
    "            return rating_dict[rating]\n",
    "\n",
    "        else:\n",
    "            print('다시 입력해주세용')"
   ]
  },
  {
   "cell_type": "markdown",
   "metadata": {},
   "source": [
    "### 동백전 사용 유무 (22/08부터 5% 적립으로 변경됐으니 따로 설정해주자...)"
   ]
  },
  {
   "cell_type": "code",
   "execution_count": null,
   "metadata": {},
   "outputs": [],
   "source": [
    "def camel_pay():\n",
    "    for q in range(4):\n",
    "        if q == 3:\n",
    "            print('입력회수 초과로 처음으로 돌아갑니다.')\n",
    "            return 'exit'\n",
    "\n",
    "        camelia = input('동백전으로 사용하셨나요? y/n >>> ')\n",
    "        if camelia in ['y', 'Y', '네', '예','ㅇㅇ','ㅇ']:\n",
    "            return 'Y'\n",
    "        elif camelia in ['n','N','노','no','NO','ㄴㄴ','ㄴ']:\n",
    "            return 'N'\n",
    "        else:\n",
    "            print('다시 입력해주세용')\n"
   ]
  },
  {
   "cell_type": "markdown",
   "metadata": {},
   "source": [
    "### 동백전 사용에 따른 적립금과 할인율 설정"
   ]
  },
  {
   "cell_type": "code",
   "execution_count": 37,
   "metadata": {},
   "outputs": [
    {
     "name": "stdout",
     "output_type": "stream",
     "text": [
      "다시 입력해주세용\n",
      "다시 입력해주세용\n",
      "입력회수 초과로 처음으로 돌아갑니다.\n",
      "exit\n"
     ]
    }
   ],
   "source": []
  },
  {
   "cell_type": "markdown",
   "metadata": {},
   "source": [
    "### 고정항목 유무. 이건 매번 입력보다는 따로 시작 선택지를 만드는 게 편할듯?"
   ]
  },
  {
   "cell_type": "code",
   "execution_count": 35,
   "metadata": {},
   "outputs": [],
   "source": [
    "def fixed_expenses(setting, main, sub):\n",
    "    if setting.loc[0,'고정항목 자동선택'] == 'on':\n",
    "        if 'M.'+main in list(setting.loc[:,'고정항목 분류']) or 'S.'+sub in list(setting.loc[:,'고정항목 분류']):\n",
    "            print('고정항목으로 자동 선택 되었습니다.')\n",
    "            return 'Y'\n",
    "\n",
    "    for q in range(4):\n",
    "        if q == 3:\n",
    "            print('입력회수 초과로 처음으로 돌아갑니다.')\n",
    "            return 'exit'\n",
    "\n",
    "        fi_ex = input('고정 지출/수익 인가용? y/n >>> ')\n",
    "        if fi_ex in ['y', 'Y', '네', '예','ㅇㅇ','ㅇ']:\n",
    "            return 'Y'\n",
    "        elif fi_ex in ['n','N','노','no','NO','ㄴㄴ','ㄴ']:\n",
    "            return 'N'\n",
    "        else:\n",
    "            print('다시 입력해주세용')"
   ]
  },
  {
   "cell_type": "code",
   "execution_count": 23,
   "metadata": {},
   "outputs": [
    {
     "data": {
      "text/plain": [
       "['M=대분류/S=소분류', 'M.구독', 'M.집', 'S.월세']"
      ]
     },
     "execution_count": 23,
     "metadata": {},
     "output_type": "execute_result"
    }
   ],
   "source": []
  },
  {
   "cell_type": "markdown",
   "metadata": {},
   "source": [
    "### 고정항목 자동 선택"
   ]
  },
  {
   "cell_type": "code",
   "execution_count": null,
   "metadata": {},
   "outputs": [],
   "source": [
    "def fixed_expenses_on_off(setting):\n",
    "    for q in range(4):\n",
    "        if q==3:\n",
    "            print('입력횟수 초과했습니당')\n",
    "            return 'exit'\n",
    "\n",
    "        now_set = setting.loc[0,'고정항목 자동선택']\n",
    "        print(f'현재 고정항목 자동 선택 설정: {now_set}')\n",
    "\n",
    "        new_set = input('고정항목을 자동으로 선택하시겠습니까? y/n >>>')\n",
    "\n",
    "        if new_set in ['on','On','ON','oN','ㅇㅇ','ㅇ','예','네','y','yes','Y','Yes']:\n",
    "            setting.loc[0, '고정항목 자동선택'] = 'on'\n",
    "            print('고정항목 자동저장이 on로 바뀌었습니당')\n",
    "            break\n",
    "        elif new_set in ['off','Off','OFF','ㄴㄴ','ㄴ','아니오','아니','ss','s']:\n",
    "            setting.loc[0, '고정항목 자동선택'] = 'off'\n",
    "            print('고정항목 자동저장이 off로 바뀌었습니당')\n",
    "            break\n",
    "        else:\n",
    "            print('형식을 맞춰주세염')"
   ]
  },
  {
   "cell_type": "code",
   "execution_count": 47,
   "metadata": {},
   "outputs": [
    {
     "data": {
      "text/plain": [
       "0     대출\n",
       "1      집\n",
       "2      집\n",
       "3      집\n",
       "4     식비\n",
       "      ..\n",
       "80    식비\n",
       "81    식비\n",
       "82    가구\n",
       "83    식비\n",
       "84    식비\n",
       "Name: 대분류, Length: 85, dtype: object"
      ]
     },
     "execution_count": 47,
     "metadata": {},
     "output_type": "execute_result"
    }
   ],
   "source": []
  },
  {
   "cell_type": "markdown",
   "metadata": {},
   "source": [
    "### 고정항목 자동 선택 항목 관리"
   ]
  },
  {
   "cell_type": "code",
   "execution_count": 90,
   "metadata": {},
   "outputs": [
    {
     "data": {
      "text/plain": [
       "'on'"
      ]
     },
     "execution_count": 90,
     "metadata": {},
     "output_type": "execute_result"
    }
   ],
   "source": [
    "def fixed_expenses_setting(df, setting):\n",
    "    for q in range(4):\n",
    "        if q==3:\n",
    "            print('입력횟수 초과했습니당')\n",
    "            return 'exit'\n",
    "        \n",
    "        category = list(setting.loc[:,'고정항목 분류'].unique())\n",
    "        print(f'현재 고정항목 자동선택 분류: {category}')\n",
    "        ex = input('무엇을 바꾸시겠습니까? 대/소 >>> ')\n",
    "\n",
    "        if ex == '대':\n",
    "            ex2 = input('삭제/추가 >>> ')\n",
    "            if ex2 == '삭제':\n",
    "                main = list(df.loc[:,'대분류'].unique())\n",
    "                del_main = input(f'{main}\\n삭제하실 대분류를 분류명만 기입해주세요 >>> ')\n",
    "                if 'M.'+del_main in list(setting.loc[:,'고정항목 분류']):\n",
    "                    setting.drop(setting[setting.loc[:,'고정항목 분류'] == 'M.'+del_main].index, inplace=True)\n",
    "                    print('대분류가 삭제되었습니다.')\n",
    "                else:\n",
    "                    print('다시 입력해주세요.')\n",
    "                    continue\n",
    "            elif ex2 == '추가':\n",
    "\n",
    "                insert_main = input('추가하실 대분류를 기입해주세요 >>> ')\n",
    "                if insert_main in list(df.loc[:,'대분류']):\n",
    "                    data = {'고정항목 분류' : ['M.'+insert_main]}\n",
    "                    append_df = pd.DataFrame(data)\n",
    "                    setting = pd.concat([setting, append_df], ignore_index=True)\n",
    "                    print('수정되었습니당')\n",
    "                else:\n",
    "                    print('다시 입력해주세요.')\n",
    "                    continue\n",
    "\n",
    "        elif ex == '소':\n",
    "            ex2 = input('삭제/추가 >>> ')\n",
    "\n",
    "            if ex2 == '삭제':\n",
    "                del_sub = input('삭제하실 소분류를 기입해주세요 >>> ')\n",
    "                if 'S.'+del_sub in list(setting.loc[:,'고정항목 분류']):\n",
    "                    setting.drop(setting[setting.loc[:,'고정항목 분류'] == 'S.'+del_sub].index,inplace=True)\n",
    "                    print('소분류가 삭제되었습니다.')\n",
    "                else:\n",
    "                    print('다시 입력해주세요.')\n",
    "                    continue\n",
    "\n",
    "            elif ex2 == '추가':\n",
    "                sub = list(df.loc[:,'소분류'].unique())\n",
    "                insert_sub = input(f'{sub}\\n추가하실 소분류를 기입해주세요 >>> ')\n",
    "                if insert_sub in list(df.loc[:,'소분류']):\n",
    "                    data = {'고정항목 분류' : ['S.'+insert_sub]}\n",
    "                    append_df = pd.DataFrame(data)\n",
    "                    setting = pd.concat([setting, append_df], ignore_index=True)\n",
    "                    print('수정되었습니당')\n",
    "                else:\n",
    "                    print('다시 입력해주세요.')\n",
    "                    continue\n",
    "        setting.to_excel('./setting.xlsx', index=False)\n",
    "        return setting"
   ]
  },
  {
   "cell_type": "code",
   "execution_count": 63,
   "metadata": {},
   "outputs": [
    {
     "data": {
      "text/plain": [
       "['대출',\n",
       " '보증금',\n",
       " '공인중개비',\n",
       " '월세',\n",
       " '외식',\n",
       " '도구',\n",
       " '주방',\n",
       " '가구',\n",
       " '전자제품',\n",
       " '커피',\n",
       " '욕실',\n",
       " '통신',\n",
       " '구글플레이',\n",
       " '집밥',\n",
       " '간식',\n",
       " '유튜브프리미엄',\n",
       " '쿠팡와우',\n",
       " '용돈',\n",
       " '굿즈',\n",
       " '대리구매',\n",
       " '카카오',\n",
       " '카드충전',\n",
       " '술',\n",
       " '왓챠',\n",
       " '사줌',\n",
       " '꽃집',\n",
       " '넷플릭스',\n",
       " '인테리어']"
      ]
     },
     "execution_count": 63,
     "metadata": {},
     "output_type": "execute_result"
    }
   ],
   "source": [
    "list(df.loc[:,'소분류'].unique())"
   ]
  },
  {
   "cell_type": "markdown",
   "metadata": {},
   "source": [
    "### 마지막 목록 지우기"
   ]
  },
  {
   "cell_type": "code",
   "execution_count": null,
   "metadata": {},
   "outputs": [],
   "source": [
    "def del_last(df):\n",
    "    for q in range(4):\n",
    "        if q == 3:\n",
    "            print('입력회수 초과로 처음으로 돌아갑니다.')\n",
    "            return 'exit'\n",
    "        \n",
    "        last_contents = f'''현재 마지막 항목\n",
    "=============================================\n",
    "{df.iloc[-1,:]}\n",
    "=============================================\n",
    "'''\n",
    "        print(last_contents)\n",
    "        del_last = input('마지막 항목을 지우시겠습니까?(y/n): ')\n",
    "        if del_last in ['y','Y', '예','ㅇ','ㄱㄱ','ㄱ','o','O','네']:\n",
    "            print(last_contents)\n",
    "            return df.iloc[:-1, :]\n",
    "        elif del_last in ['n','N','ㄴ','아니','아니요','ㄴㄴ','s','no','NO']:\n",
    "            print(last_contents)\n",
    "            return df\n",
    "        else:\n",
    "            print('다시 입력해주세양')\n",
    "            print(last_contents)"
   ]
  },
  {
   "cell_type": "markdown",
   "metadata": {},
   "source": [
    "### 최근 10개 내역 확인하기"
   ]
  },
  {
   "cell_type": "code",
   "execution_count": 4,
   "metadata": {},
   "outputs": [],
   "source": [
    "df = pd.read_excel('./가계부.xlsx')\n",
    "\n",
    "def check_10(df):\n",
    "    print(df.iloc[-10:,:])"
   ]
  },
  {
   "cell_type": "markdown",
   "metadata": {},
   "source": [
    "### 월, 일 직접 입력 이전 데이터 병합 함수"
   ]
  },
  {
   "cell_type": "code",
   "execution_count": null,
   "metadata": {},
   "outputs": [],
   "source": [
    "# month = month_input()\n",
    "# day = day_input(month)\n",
    "# in_or_ex = in_ex()\n",
    "# much = how_much()\n",
    "# category = list(df.loc[:, '대분류'].unique())\n",
    "# maincategory = main_category(category)\n",
    "# subcategory_list = list(df.loc[df.loc[: , '대분류']==maincategory, '소분류'].unique())\n",
    "# subcategory = sub_category(subcategory_list)\n",
    "# de = detail()\n",
    "# rate = rating()\n",
    "# pay = camel_pay()\n",
    "# fi_ex = fixed_expenses()\n",
    "\n",
    "# input_data = {\n",
    "#     '월' : [month], '일' :[day],\n",
    "#     '수익/지출': [in_or_ex], '금액': [much],\n",
    "#     '대분류': [maincategory], '소분류': [subcategory],\n",
    "#     '항목명': [de], '평가': [rate], '동백전유무': [pay], '고정지출': [fi_ex]\n",
    "#     }\n",
    "\n",
    "# append_df = pd.DataFrame(input_data)\n",
    "# df = pd.concat([df, append_df], ignore_index=True)\n",
    "# # df.to_csv('./가계부.csv')"
   ]
  },
  {
   "cell_type": "markdown",
   "metadata": {},
   "source": [
    "### 최신 병합 함수"
   ]
  },
  {
   "cell_type": "code",
   "execution_count": null,
   "metadata": {},
   "outputs": [],
   "source": [
    "def data_input(df, setting):\n",
    "    year = setting.loc[0, '기본연도']\n",
    "    month = setting.loc[0, '기본월']\n",
    "\n",
    "    day = day_input(month)\n",
    "    if day == 'exit':\n",
    "        return False\n",
    "    in_or_ex = in_ex()\n",
    "    if in_or_ex == 'exit':\n",
    "        return False\n",
    "    elif in_or_ex == '지출':\n",
    "        much = how_much()\n",
    "        if much == 'exit':\n",
    "            return False\n",
    "        category = list(df.loc[df.loc[:,'수익/지출'] == '지출', '대분류'].unique())\n",
    "        maincategory = main_category(category)\n",
    "        if maincategory == 'exit':\n",
    "            return False\n",
    "        subcategory_list = list(df.loc[df.loc[: , '대분류']==maincategory, '소분류'].unique())\n",
    "        subcategory = sub_category(subcategory_list)\n",
    "        if subcategory == 'exit':\n",
    "            return False\n",
    "        de = detail()\n",
    "        if de == 'exit':\n",
    "            return False\n",
    "        rate = rating()\n",
    "        if rate == 'exit':\n",
    "            return False\n",
    "        pay = camel_pay()\n",
    "        if pay == 'exit':\n",
    "            return False\n",
    "        fi_ex = fixed_expenses(setting, maincategory, subcategory)\n",
    "        if fi_ex == 'exit':\n",
    "            return False\n",
    "\n",
    "        input_data = {\n",
    "            '연도' : [year], '월' : [month], '일' :[day],\n",
    "            '수익/지출': [in_or_ex], '금액': [much],\n",
    "            '대분류': [maincategory], '소분류': [subcategory],\n",
    "            '항목명': [de], '평가': [rate], '동백전유무': [pay], '고정항목': [fi_ex]\n",
    "            }\n",
    "\n",
    "        return input_data\n",
    "\n",
    "    elif in_or_ex == '수익':\n",
    "        much = how_much()\n",
    "        if much == 'exit':\n",
    "            return False\n",
    "        category = list(df.loc[list(df.loc[:,'수익/지출'] == '수익'), '대분류'].unique())\n",
    "        maincategory = main_category(category)\n",
    "        if maincategory == 'exit':\n",
    "            return False\n",
    "        subcategory_list = list(df.loc[df.loc[: , '대분류']==maincategory, '소분류'].unique())\n",
    "        subcategory = sub_category(subcategory_list)\n",
    "        if subcategory == 'exit':\n",
    "            return False\n",
    "        de = detail()\n",
    "        if de == 'exit':\n",
    "            return False\n",
    "        rate = None\n",
    "        pay = None\n",
    "        fi_ex = fixed_expenses(setting, maincategory, subcategory)\n",
    "        if fi_ex == 'exit':\n",
    "            return False\n",
    "\n",
    "        input_data = {\n",
    "            '연도' : [year], '월' : [month], '일' :[day],\n",
    "            '수익/지출': [in_or_ex], '금액': [much],\n",
    "            '대분류': [maincategory], '소분류': [subcategory],\n",
    "            '항목명': [de], '평가': [rate], '동백전유무': [pay], '고정항목': [fi_ex]\n",
    "            }\n",
    "\n",
    "        return input_data\n",
    "\n",
    "# 데이터프레임 병합 단계\n",
    "\n",
    "# append_df = pd.DataFrame(input_data)\n",
    "# df = pd.concat([df, append_df], ignore_index=True)"
   ]
  },
  {
   "cell_type": "markdown",
   "metadata": {},
   "source": [
    "### 자동저장 on/off"
   ]
  },
  {
   "cell_type": "code",
   "execution_count": 36,
   "metadata": {},
   "outputs": [
    {
     "name": "stdout",
     "output_type": "stream",
     "text": [
      "현재 설정 : 자동저장 off\n"
     ]
    }
   ],
   "source": [
    "def auto_save_set(setting):\n",
    "    for q in range(4):\n",
    "        if q==3:\n",
    "            print('입력횟수 초과했습니당')\n",
    "            return 'exit'\n",
    "            \n",
    "        now_set = setting['자동저장'][0]\n",
    "        print(f'현재 설정 : {now_set}')\n",
    "        \n",
    "        new_set = input('설정을 바꾸시겠습니까? on/off >>> ')\n",
    "        if new_set in ['on','On','ON','oN','ㅇㅇ','ㅇ','예','네','y','yes','Y','Yes']:\n",
    "            setting.loc[0, '자동저장'] = 'on'\n",
    "            print('자동저장이 on로 바뀌었습니당')\n",
    "        elif new_set in ['off','Off','OFF','ㄴㄴ','ㄴ','아니오','아니','ss','s']:\n",
    "            setting.loc[0, '자동저장'] = 'off'\n",
    "            print('자동저장이 off로 바뀌었습니당')\n",
    "        else:\n",
    "            print('형식을 맞춰주세염')\n",
    "            continue\n",
    "        setting.to_excel('./setting.xlsx', index=False)\n",
    "        \n",
    "        "
   ]
  },
  {
   "cell_type": "code",
   "execution_count": 63,
   "metadata": {},
   "outputs": [
    {
     "name": "stdout",
     "output_type": "stream",
     "text": [
      "현재 설정 : on\n"
     ]
    }
   ],
   "source": []
  },
  {
   "cell_type": "markdown",
   "metadata": {},
   "source": [
    "### 자동저장 발동!"
   ]
  },
  {
   "cell_type": "code",
   "execution_count": 37,
   "metadata": {},
   "outputs": [],
   "source": [
    "def auto_save(df, setting):\n",
    "    if setting['자동저장'][0] == 'on':\n",
    "        df.to_excel('가계부.xlsx', index=False)\n",
    "        print('저장되었습니다.')"
   ]
  },
  {
   "cell_type": "markdown",
   "metadata": {},
   "source": [
    "### 세팅 들어가기"
   ]
  },
  {
   "cell_type": "code",
   "execution_count": null,
   "metadata": {},
   "outputs": [],
   "source": [
    "def setting_in(df, setting):\n",
    "    while True:\n",
    "            \n",
    "        s = input('''\n",
    "변경할 설정을 입력해주세요.\n",
    "\n",
    "1. 기본 연도 변경\n",
    "\n",
    "2. 기본 월 변경\n",
    "\n",
    "3. 자동저장 on/off\n",
    "\n",
    "4. 고정지출 자동저장 설정\n",
    "\n",
    "5. 메인메뉴로 돌아가기\n",
    "\n",
    ">>> ''')\n",
    "        if s == '1':\n",
    "            fix_year(setting)\n",
    "        elif s == '2':\n",
    "            fix_month(setting)\n",
    "        elif s == '3':\n",
    "            auto_save_set(setting)\n",
    "        elif s == '4':\n",
    "            s2 = input('고정항목 자동선택 on/off: 1 \\n고정항목 자동선택 항목 설정: 2\\n >>> ')\n",
    "            if s2 == '1':\n",
    "                fixed_expenses_on_off(setting)\n",
    "            elif s2 == '2':\n",
    "                setting = fixed_expenses_setting(df, setting)\n",
    "                \n",
    "        elif s == '5':\n",
    "            return setting\n",
    "        else:\n",
    "            print('숫자만 입력해주세양')"
   ]
  },
  {
   "cell_type": "code",
   "execution_count": 55,
   "metadata": {},
   "outputs": [],
   "source": [
    "df.to_excel('./가계부.xlsx', index=False)"
   ]
  },
  {
   "cell_type": "code",
   "execution_count": null,
   "metadata": {},
   "outputs": [],
   "source": [
    "df.to_csv('./가계부.csv', index=False)"
   ]
  },
  {
   "cell_type": "code",
   "execution_count": 41,
   "metadata": {},
   "outputs": [
    {
     "data": {
      "text/plain": [
       "[1, 3, 3, 4, 5]"
      ]
     },
     "execution_count": 41,
     "metadata": {},
     "output_type": "execute_result"
    }
   ],
   "source": []
  },
  {
   "cell_type": "code",
   "execution_count": 45,
   "metadata": {},
   "outputs": [
    {
     "name": "stdout",
     "output_type": "stream",
     "text": [
      "[5, 2, 3]\n",
      "[1, 2, 3]\n"
     ]
    }
   ],
   "source": []
  }
 ],
 "metadata": {
  "kernelspec": {
   "display_name": "Python 3.10.1 64-bit",
   "language": "python",
   "name": "python3"
  },
  "language_info": {
   "codemirror_mode": {
    "name": "ipython",
    "version": 3
   },
   "file_extension": ".py",
   "mimetype": "text/x-python",
   "name": "python",
   "nbconvert_exporter": "python",
   "pygments_lexer": "ipython3",
   "version": "3.10.1"
  },
  "orig_nbformat": 4,
  "vscode": {
   "interpreter": {
    "hash": "26de051ba29f2982a8de78e945f0abaf191376122a1563185a90213a26c5da77"
   }
  }
 },
 "nbformat": 4,
 "nbformat_minor": 2
}
