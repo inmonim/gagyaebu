{
 "cells": [
  {
   "cell_type": "code",
   "execution_count": 1,
   "metadata": {},
   "outputs": [],
   "source": [
    "import pandas as pd\n",
    "import numpy as np"
   ]
  },
  {
   "cell_type": "code",
   "execution_count": 2,
   "metadata": {},
   "outputs": [],
   "source": [
    "df = pd.read_excel('./가계부.xlsx')\n",
    "setting = pd.read_excel('./setting.xlsx')"
   ]
  },
  {
   "cell_type": "code",
   "execution_count": 3,
   "metadata": {},
   "outputs": [
    {
     "data": {
      "text/html": [
       "<div>\n",
       "<style scoped>\n",
       "    .dataframe tbody tr th:only-of-type {\n",
       "        vertical-align: middle;\n",
       "    }\n",
       "\n",
       "    .dataframe tbody tr th {\n",
       "        vertical-align: top;\n",
       "    }\n",
       "\n",
       "    .dataframe thead th {\n",
       "        text-align: right;\n",
       "    }\n",
       "</style>\n",
       "<table border=\"1\" class=\"dataframe\">\n",
       "  <thead>\n",
       "    <tr style=\"text-align: right;\">\n",
       "      <th></th>\n",
       "      <th>연도</th>\n",
       "      <th>월</th>\n",
       "      <th>일</th>\n",
       "      <th>수익/지출</th>\n",
       "      <th>금액</th>\n",
       "      <th>대분류</th>\n",
       "      <th>소분류</th>\n",
       "      <th>항목명</th>\n",
       "      <th>평가</th>\n",
       "      <th>동백전유무</th>\n",
       "      <th>고정지출</th>\n",
       "    </tr>\n",
       "  </thead>\n",
       "  <tbody>\n",
       "    <tr>\n",
       "      <th>46</th>\n",
       "      <td>2022</td>\n",
       "      <td>8</td>\n",
       "      <td>3</td>\n",
       "      <td>수익</td>\n",
       "      <td>100000</td>\n",
       "      <td>대출</td>\n",
       "      <td>대출</td>\n",
       "      <td>누나</td>\n",
       "      <td>킹쩔수없음</td>\n",
       "      <td>N</td>\n",
       "      <td>N</td>\n",
       "    </tr>\n",
       "    <tr>\n",
       "      <th>47</th>\n",
       "      <td>2022</td>\n",
       "      <td>8</td>\n",
       "      <td>3</td>\n",
       "      <td>지출</td>\n",
       "      <td>4990</td>\n",
       "      <td>구독</td>\n",
       "      <td>쿠팡와우</td>\n",
       "      <td>쿠팡와우</td>\n",
       "      <td>킹쩔수없음</td>\n",
       "      <td>N</td>\n",
       "      <td>Y</td>\n",
       "    </tr>\n",
       "    <tr>\n",
       "      <th>48</th>\n",
       "      <td>2022</td>\n",
       "      <td>8</td>\n",
       "      <td>3</td>\n",
       "      <td>지출</td>\n",
       "      <td>30000</td>\n",
       "      <td>취미</td>\n",
       "      <td>굿즈</td>\n",
       "      <td>망곰굿즈</td>\n",
       "      <td>훌륭</td>\n",
       "      <td>N</td>\n",
       "      <td>N</td>\n",
       "    </tr>\n",
       "    <tr>\n",
       "      <th>49</th>\n",
       "      <td>2022</td>\n",
       "      <td>8</td>\n",
       "      <td>3</td>\n",
       "      <td>수익</td>\n",
       "      <td>22000</td>\n",
       "      <td>기타</td>\n",
       "      <td>대리구매</td>\n",
       "      <td>망곰굿즈</td>\n",
       "      <td>훌륭</td>\n",
       "      <td>N</td>\n",
       "      <td>N</td>\n",
       "    </tr>\n",
       "    <tr>\n",
       "      <th>50</th>\n",
       "      <td>2022</td>\n",
       "      <td>8</td>\n",
       "      <td>2</td>\n",
       "      <td>지출</td>\n",
       "      <td>2000</td>\n",
       "      <td>식비</td>\n",
       "      <td>커피</td>\n",
       "      <td>인생커피</td>\n",
       "      <td>괜찮</td>\n",
       "      <td>N</td>\n",
       "      <td>N</td>\n",
       "    </tr>\n",
       "    <tr>\n",
       "      <th>51</th>\n",
       "      <td>2022</td>\n",
       "      <td>8</td>\n",
       "      <td>2</td>\n",
       "      <td>지출</td>\n",
       "      <td>3500</td>\n",
       "      <td>생필품</td>\n",
       "      <td>주방</td>\n",
       "      <td>키친타올</td>\n",
       "      <td>왜샀노</td>\n",
       "      <td>N</td>\n",
       "      <td>N</td>\n",
       "    </tr>\n",
       "    <tr>\n",
       "      <th>52</th>\n",
       "      <td>2022</td>\n",
       "      <td>8</td>\n",
       "      <td>2</td>\n",
       "      <td>지출</td>\n",
       "      <td>16580</td>\n",
       "      <td>식비</td>\n",
       "      <td>집밥</td>\n",
       "      <td>우리마트</td>\n",
       "      <td>괜찮</td>\n",
       "      <td>N</td>\n",
       "      <td>N</td>\n",
       "    </tr>\n",
       "    <tr>\n",
       "      <th>53</th>\n",
       "      <td>2022</td>\n",
       "      <td>8</td>\n",
       "      <td>1</td>\n",
       "      <td>지출</td>\n",
       "      <td>10580</td>\n",
       "      <td>식비</td>\n",
       "      <td>집밥</td>\n",
       "      <td>우리마트</td>\n",
       "      <td>괜찮</td>\n",
       "      <td>N</td>\n",
       "      <td>N</td>\n",
       "    </tr>\n",
       "    <tr>\n",
       "      <th>54</th>\n",
       "      <td>2022</td>\n",
       "      <td>8</td>\n",
       "      <td>3</td>\n",
       "      <td>지출</td>\n",
       "      <td>1500</td>\n",
       "      <td>식비</td>\n",
       "      <td>커피</td>\n",
       "      <td>컴포즈</td>\n",
       "      <td>애매</td>\n",
       "      <td>N</td>\n",
       "      <td>N</td>\n",
       "    </tr>\n",
       "    <tr>\n",
       "      <th>55</th>\n",
       "      <td>2022</td>\n",
       "      <td>8</td>\n",
       "      <td>4</td>\n",
       "      <td>지출</td>\n",
       "      <td>1200</td>\n",
       "      <td>교통비</td>\n",
       "      <td>버스비</td>\n",
       "      <td>후불교통카드</td>\n",
       "      <td>괜찮</td>\n",
       "      <td>N</td>\n",
       "      <td>N</td>\n",
       "    </tr>\n",
       "  </tbody>\n",
       "</table>\n",
       "</div>"
      ],
      "text/plain": [
       "      연도  월  일 수익/지출      금액  대분류   소분류     항목명     평가 동백전유무 고정지출\n",
       "46  2022  8  3    수익  100000   대출    대출      누나  킹쩔수없음     N    N\n",
       "47  2022  8  3    지출    4990   구독  쿠팡와우    쿠팡와우  킹쩔수없음     N    Y\n",
       "48  2022  8  3    지출   30000   취미    굿즈    망곰굿즈     훌륭     N    N\n",
       "49  2022  8  3    수익   22000   기타  대리구매    망곰굿즈     훌륭     N    N\n",
       "50  2022  8  2    지출    2000   식비    커피    인생커피     괜찮     N    N\n",
       "51  2022  8  2    지출    3500  생필품    주방    키친타올    왜샀노     N    N\n",
       "52  2022  8  2    지출   16580   식비    집밥    우리마트     괜찮     N    N\n",
       "53  2022  8  1    지출   10580   식비    집밥    우리마트     괜찮     N    N\n",
       "54  2022  8  3    지출    1500   식비    커피     컴포즈     애매     N    N\n",
       "55  2022  8  4    지출    1200  교통비   버스비  후불교통카드     괜찮     N    N"
      ]
     },
     "execution_count": 3,
     "metadata": {},
     "output_type": "execute_result"
    }
   ],
   "source": []
  },
  {
   "cell_type": "code",
   "execution_count": null,
   "metadata": {},
   "outputs": [],
   "source": [
    "df"
   ]
  },
  {
   "cell_type": "markdown",
   "metadata": {},
   "source": [
    "### setting.xlsx의 기본 연도 수정"
   ]
  },
  {
   "cell_type": "code",
   "execution_count": null,
   "metadata": {},
   "outputs": [],
   "source": [
    "def fix_year():\n",
    "    \n",
    "    setting = pd.read_excel('./setting.xlsx')\n",
    "    year = setting.loc[0,'기본연도']\n",
    "    f_year = input(f'기본 설정할 연도를 정하십시오. 현재 설정 연도 = {year} (ex> 2022)')\n",
    "    if f_year.isdigit() == True:\n",
    "        setting.loc[0, '기본연도'] = int(f_year)\n",
    "    else:\n",
    "        print('형식에 맞춰 입력해줘용')\n",
    "    setting.to_excel('./setting.xlsx', index=False)\n",
    "    setting = pd.read_excel('./setting.xlsx')"
   ]
  },
  {
   "cell_type": "markdown",
   "metadata": {},
   "source": [
    "### setting.xlsx의 기본 월 수정"
   ]
  },
  {
   "cell_type": "code",
   "execution_count": null,
   "metadata": {},
   "outputs": [],
   "source": [
    "def fix_month():\n",
    "    \n",
    "    setting = pd.read_excel('./setting.xlsx')\n",
    "    month = setting.loc[0,'기본월']\n",
    "    f_month = input(f'기본 설정할 월을 정하십시오. 현재 설정 월 = {month} (ex> 07)')\n",
    "    if f_month.isdigit() == True:\n",
    "        setting.loc[0, '기본월'] = int(f_month)\n",
    "    else:\n",
    "        print('형식에 맞춰 입력해줘용')\n",
    "    setting.to_excel('./setting.xlsx', index=False)\n",
    "    setting = pd.read_excel('./setting.xlsx')"
   ]
  },
  {
   "cell_type": "markdown",
   "metadata": {},
   "source": [
    "#### 월을 직접 입력하는 함수 - dummy"
   ]
  },
  {
   "cell_type": "code",
   "execution_count": null,
   "metadata": {},
   "outputs": [],
   "source": [
    "def month_input():\n",
    "    for q in range(4):\n",
    "        month_input = input('월을 입력하십시오.: ')\n",
    "        month_list = []\n",
    "        for i in month_input:\n",
    "            if i.isdigit() == True:\n",
    "                month_list.append(i)\n",
    "        if len(month_list) >2 or len(month_list) == 0:\n",
    "            print('형식이 맞지 않습니다. 다시 입력해주세요.')\n",
    "            continue\n",
    "\n",
    "        month_int = int(''.join(month_list))\n",
    "\n",
    "        if month_int > 12 or month_int < 1:\n",
    "            print('1월과 12월 사이로 입력해주십시오.')\n",
    "            continue\n",
    "        \n",
    "        return month_int"
   ]
  },
  {
   "cell_type": "markdown",
   "metadata": {},
   "source": [
    "#### 일 입력하는 함수"
   ]
  },
  {
   "cell_type": "code",
   "execution_count": null,
   "metadata": {},
   "outputs": [],
   "source": [
    "def day_input(month):\n",
    "    for q in range(4):\n",
    "        if q == 3:\n",
    "            print('입력회수 초과! 처음으로 돌아갑니당')\n",
    "            return 'exit'\n",
    "\n",
    "\n",
    "        day_input = input('일을 입력하십시오.: ')\n",
    "        day_list = []\n",
    "\n",
    "        for i in day_input:\n",
    "            if i.isdigit() == True:\n",
    "                day_list.append(i)\n",
    "        if len(day_list) >2 or len(day_list) == 0:\n",
    "            print('형식이 맞지 않습니다. 다시 입력해주세요.')\n",
    "            continue\n",
    "\n",
    "        day_int = int(''.join(day_list))\n",
    "\n",
    "        if month == 2:\n",
    "            if day_int <1 or day_int >29:\n",
    "                print(f'{month}월은 1일부터 29일 사이로 입력해주십시오.')\n",
    "                continue\n",
    "        elif month in [1,3,5,7,8,10,12]:\n",
    "            if day_int <1 or day_int >32:\n",
    "                print(f'{month}월은 31일까지 있습니다.')\n",
    "                continue\n",
    "        else:\n",
    "            if day_int <1 or day_int >31:\n",
    "                print(f'{month}월은 30일까지 있습니다.')\n",
    "                continue\n",
    "        return day_int"
   ]
  },
  {
   "cell_type": "markdown",
   "metadata": {},
   "source": [
    "#### 수익과 지출 중 하나를 선택"
   ]
  },
  {
   "cell_type": "code",
   "execution_count": null,
   "metadata": {},
   "outputs": [],
   "source": [
    "def in_ex():\n",
    "    for q in range(4):\n",
    "        if q == 3:\n",
    "            print('입력회수 초과로 처음으로 돌아갑니다.')\n",
    "            return 'exit'\n",
    "\n",
    "        in_ex_input = input('수익 / 지출')\n",
    "        if in_ex_input in ['수익','수입','이득']:\n",
    "            return '수익'\n",
    "        elif in_ex_input in ['지출','소비','손해']:\n",
    "            return '지출'\n",
    "        for i in in_ex_input:\n",
    "            if i in ['수','ㅅ', 'ㅇ','익','입','이','득']:\n",
    "                return '수익'\n",
    "            elif i in ['지', 'ㅈ','ㅊ','지','씀','출','손','소']:\n",
    "                return '지출'\n",
    "        else:\n",
    "            print('가능하면 알아들을 수 있게 써 주십시오.')"
   ]
  },
  {
   "cell_type": "markdown",
   "metadata": {},
   "source": [
    "#### 금액 입력(정규 표현식으로 입력 받으면 될듯?)"
   ]
  },
  {
   "cell_type": "code",
   "execution_count": null,
   "metadata": {},
   "outputs": [],
   "source": [
    "def how_much():\n",
    "    for q in range(4):\n",
    "        \n",
    "        if q == 3:\n",
    "            print('입력회수 초과로 처음으로 돌아갑니다.')\n",
    "            return 'exit'\n",
    "\n",
    "        much = input('숫자로만 입력해주세요: ')\n",
    "        if much.isdigit() == True:\n",
    "            return int(much)\n",
    "        else:\n",
    "            print('다시 입력해주세용')"
   ]
  },
  {
   "cell_type": "markdown",
   "metadata": {},
   "source": [
    "#### 메인 카테고리 입력 - categorty 파라미터에는 df.columns 값이 올 수 있도록"
   ]
  },
  {
   "cell_type": "code",
   "execution_count": null,
   "metadata": {},
   "outputs": [],
   "source": [
    "def main_category(category):\n",
    "    for q in range(4):\n",
    "        if q == 3:\n",
    "            print('입력회수 초과로 처음으로 돌아갑니다.')\n",
    "            return 'exit'\n",
    "\n",
    "        main = input(f'{category} 중 선택해주시기 바랍니다. :')\n",
    "        \n",
    "        if main not in category:\n",
    "            append_main = input('새로운 대분류를 추가하시겠습니까? y/n')\n",
    "            if append_main in ['y', 'Y', '네', '예']:\n",
    "                print('새로운 대분류가 추가되었습니다.')\n",
    "                return main\n",
    "            else:\n",
    "                print('대분류를 다시 입력해주시기 바랍니다.')\n",
    "                continue\n",
    "        else:\n",
    "            return main"
   ]
  },
  {
   "cell_type": "markdown",
   "metadata": {},
   "source": [
    "#### 서브 카테고리 입력 - 파라미터는 메인 카테고리와 마찬가지\n",
    "\n",
    "##### 새로운 메인 카테고리일 경우 새로운 소분류를 추가하는 방향으로 안내"
   ]
  },
  {
   "cell_type": "code",
   "execution_count": null,
   "metadata": {},
   "outputs": [],
   "source": [
    "def sub_category(sub_cat):\n",
    "    for q in range(4):\n",
    "        if q == 3:\n",
    "            print('입력회수 초과로 처음으로 돌아갑니다.')\n",
    "            return 'exit'\n",
    "\n",
    "        if len(sub_cat) == 0:\n",
    "            sub = input('새로운 소분류도 추가해주십시오. :')\n",
    "            return sub\n",
    "        else:\n",
    "            sub = input(f'{sub_cat} 중에서 선택해주시기바랍니다.')\n",
    "\n",
    "        if sub not in sub_cat:\n",
    "            append_sub = input('새로운 소분류를 추가하시겠습니까? y/n')\n",
    "            if append_sub in ['y','Y','네','예','ㅇ','ㅇㅇ','ㄱ','ㄱㄱ']:\n",
    "                print('새로운 소분류가 추가되었습니다.')\n",
    "                return sub\n",
    "            else:\n",
    "                print('소분류를 다시 입력해주시기 바랍니다.')\n",
    "                continue\n",
    "        else:\n",
    "            return sub"
   ]
  },
  {
   "cell_type": "markdown",
   "metadata": {},
   "source": [
    "#### 세부사항 작성"
   ]
  },
  {
   "cell_type": "code",
   "execution_count": null,
   "metadata": {},
   "outputs": [],
   "source": [
    "def detail():\n",
    "    detail = input('세부 사항에 대해 작성해주십시오. :')\n",
    "    if detail == '':\n",
    "        return '없음'\n",
    "    return detail"
   ]
  },
  {
   "cell_type": "markdown",
   "metadata": {},
   "source": [
    "#### 소비자 평가.... 좀 더 재미있고 직관적이게"
   ]
  },
  {
   "cell_type": "code",
   "execution_count": null,
   "metadata": {},
   "outputs": [],
   "source": [
    "def rating():\n",
    "    for q in range(4):\n",
    "        if q == 3:\n",
    "            print('입력회수 초과로 처음으로 돌아갑니다.')\n",
    "            return 'exit'\n",
    "\n",
    "        rating_dict = {5: '훌륭', 4: '괜찮', 3: '애매', 2:'왜샀노', 1:'흑우', 0:'킹쩔수없음'}\n",
    "\n",
    "        rating = int(input('소비자 평가 부탁드려요잉'))\n",
    "        if rating in [0, 1,2,3,4,5]:\n",
    "            return rating_dict[rating]\n",
    "\n",
    "        else:\n",
    "            print('다시 입력해주세용')"
   ]
  },
  {
   "cell_type": "markdown",
   "metadata": {},
   "source": [
    "### 동백전 사용 유무 (22/08부터 5% 적립으로 변경됐으니 따로 설정해주자...)"
   ]
  },
  {
   "cell_type": "code",
   "execution_count": null,
   "metadata": {},
   "outputs": [],
   "source": [
    "def camel_pay():\n",
    "    for q in range(4):\n",
    "        if q == 3:\n",
    "            print('입력회수 초과로 처음으로 돌아갑니다.')\n",
    "            return 'exit'\n",
    "\n",
    "        camelia = input('동백전으로 사용하셨나요? y/n')\n",
    "        if camelia in ['y', 'Y', '네', '예','ㅇㅇ','ㅇ']:\n",
    "            return 'Y'\n",
    "        elif camelia in ['n','N','노','no','NO','ㄴㄴ','ㄴ']:\n",
    "            return 'N'\n",
    "        else:\n",
    "            print('다시 입력해주세용')\n"
   ]
  },
  {
   "cell_type": "markdown",
   "metadata": {},
   "source": [
    "### 동백전 사용에 따른 적립금과 할인율 설정"
   ]
  },
  {
   "cell_type": "code",
   "execution_count": 37,
   "metadata": {},
   "outputs": [
    {
     "name": "stdout",
     "output_type": "stream",
     "text": [
      "다시 입력해주세용\n",
      "다시 입력해주세용\n",
      "입력회수 초과로 처음으로 돌아갑니다.\n",
      "exit\n"
     ]
    }
   ],
   "source": []
  },
  {
   "cell_type": "markdown",
   "metadata": {},
   "source": [
    "### 고정지출 유무. 이건 매번 입력보다는 따로 시작 선택지를 만드는 게 편할듯?"
   ]
  },
  {
   "cell_type": "code",
   "execution_count": 35,
   "metadata": {},
   "outputs": [],
   "source": [
    "def fixed_expenses():\n",
    "    for q in range(4):\n",
    "        if q == 3:\n",
    "            print('입력회수 초과로 처음으로 돌아갑니다.')\n",
    "            return 'exit'\n",
    "\n",
    "        fi_ex = input('고정 지출인가용? y/n')\n",
    "        if fi_ex in ['y', 'Y', '네', '예','ㅇㅇ','ㅇ']:\n",
    "            return 'Y'\n",
    "        elif fi_ex in ['n','N','노','no','NO','ㄴㄴ','ㄴ']:\n",
    "            return 'N'\n",
    "        else:\n",
    "            print('다시 입력해주세용')"
   ]
  },
  {
   "cell_type": "markdown",
   "metadata": {},
   "source": [
    "### 마지막 목록 지우기"
   ]
  },
  {
   "cell_type": "code",
   "execution_count": null,
   "metadata": {},
   "outputs": [],
   "source": [
    "df = pd.read_excel('./가계부.xlsx')\n",
    "\n",
    "def del_last(df):\n",
    "    for q in range(4):\n",
    "        if q == 3:\n",
    "            print('입력회수 초과로 처음으로 돌아갑니다.')\n",
    "            return 'exit'\n",
    "        \n",
    "        last_contents = f'''현재 마지막 항목\n",
    "=============================================\n",
    "{df.iloc[-1,:]}\n",
    "=============================================\n",
    "'''\n",
    "        print(last_contents)\n",
    "        del_last = input('마지막 항목을 지우시겠습니까?(y/n): ')\n",
    "        if del_last in ['y','Y', '예','ㅇ','ㄱㄱ','ㄱ','o','O','네']:\n",
    "            df = df.iloc[:-1, :]\n",
    "            print(last_contents)\n",
    "            break\n",
    "        elif del_last in ['n','N','ㄴ','아니','아니요','ㄴㄴ','s','no','NO']:\n",
    "            print(last_contents)\n",
    "            break\n",
    "        else:\n",
    "            print('다시 입력해주세양')\n",
    "            print(last_contents)"
   ]
  },
  {
   "cell_type": "markdown",
   "metadata": {},
   "source": [
    "### 최근 10개 내역 확인하기"
   ]
  },
  {
   "cell_type": "code",
   "execution_count": 4,
   "metadata": {},
   "outputs": [],
   "source": [
    "df = pd.read_excel('./가계부.xlsx')\n",
    "\n",
    "def check_10(df):\n",
    "    print(df.iloc[-10:,:])"
   ]
  },
  {
   "cell_type": "markdown",
   "metadata": {},
   "source": [
    "### 월, 일 직접 입력 이전 데이터 병합 함수"
   ]
  },
  {
   "cell_type": "code",
   "execution_count": null,
   "metadata": {},
   "outputs": [],
   "source": [
    "month = month_input()\n",
    "day = day_input(month)\n",
    "in_or_ex = in_ex()\n",
    "much = how_much()\n",
    "category = list(df.loc[:, '대분류'].unique())\n",
    "maincategory = main_category(category)\n",
    "subcategory_list = list(df.loc[df.loc[: , '대분류']==maincategory, '소분류'].unique())\n",
    "subcategory = sub_category(subcategory_list)\n",
    "de = detail()\n",
    "rate = rating()\n",
    "pay = camel_pay()\n",
    "fi_ex = fixed_expenses()\n",
    "\n",
    "input_data = {\n",
    "    '월' : [month], '일' :[day],\n",
    "    '수익/지출': [in_or_ex], '금액': [much],\n",
    "    '대분류': [maincategory], '소분류': [subcategory],\n",
    "    '항목명': [de], '평가': [rate], '동백전유무': [pay], '고정지출': [fi_ex]\n",
    "    }\n",
    "\n",
    "append_df = pd.DataFrame(input_data)\n",
    "df = pd.concat([df, append_df], ignore_index=True)\n",
    "# df.to_csv('./가계부.csv')"
   ]
  },
  {
   "cell_type": "markdown",
   "metadata": {},
   "source": [
    "### 최신 병합 함수"
   ]
  },
  {
   "cell_type": "code",
   "execution_count": null,
   "metadata": {},
   "outputs": [],
   "source": [
    "while True:\n",
    "\n",
    "    excecution = input('''===============================================================\n",
    "    account book\n",
    "    ===============================================================\n",
    "    \n",
    "    1. 새로운 내역 입력하기\n",
    "\n",
    "    2. 가계부 조회\n",
    "\n",
    "    3. 기본 연,월 바꾸기\n",
    "\n",
    "    4. 연, 월 자유입력\n",
    "\n",
    "    ''')\n",
    "    if excecution == '1':\n",
    "        year = setting.loc[0, '기본연도']\n",
    "        month = setting.loc[0, '기본월']\n",
    "        in_or_ex = in_ex()\n",
    "        if year == 'exit':\n",
    "            break\n",
    "        much = how_much()\n",
    "        if year == 'exit':\n",
    "            break\n",
    "        category = list(df.loc[:, '대분류'].unique())\n",
    "        if year == 'exit':\n",
    "            break\n",
    "        maincategory = main_category(category)\n",
    "        if year == 'exit':\n",
    "            break\n",
    "        subcategory_list = list(df.loc[df.loc[: , '대분류']==maincategory, '소분류'].unique())\n",
    "        if year == 'exit':\n",
    "            break\n",
    "        subcategory = sub_category(subcategory_list)\n",
    "        if year == 'exit':\n",
    "            break\n",
    "        de = detail()\n",
    "        if year == 'exit':\n",
    "            break\n",
    "        rate = rating()\n",
    "        if year == 'exit':\n",
    "            break\n",
    "        pay = camel_pay()\n",
    "        if year == 'exit':\n",
    "            break\n",
    "        fi_ex = fixed_expenses()\n",
    "        if year == 'exit':\n",
    "            break\n",
    "\n",
    "        input_data = {\n",
    "            '연도' : [year], '월' : [month], '일' :[day],\n",
    "            '수익/지출': [in_or_ex], '금액': [much],\n",
    "            '대분류': [maincategory], '소분류': [subcategory],\n",
    "            '항목명': [de], '평가': [rate], '동백전유무': [pay], '고정지출': [fi_ex]\n",
    "            }\n",
    "        continue\n",
    "\n",
    "append_df = pd.DataFrame(input_data)\n",
    "df = pd.concat([df, append_df], ignore_index=True)\n",
    "# df.to_csv('./가계부.csv')"
   ]
  },
  {
   "cell_type": "code",
   "execution_count": null,
   "metadata": {},
   "outputs": [],
   "source": [
    "df.to_excel('./가계부.xlsx', index=False)"
   ]
  },
  {
   "cell_type": "code",
   "execution_count": null,
   "metadata": {},
   "outputs": [],
   "source": [
    "df.to_csv('./가계부.csv', index=False)"
   ]
  },
  {
   "cell_type": "code",
   "execution_count": null,
   "metadata": {},
   "outputs": [],
   "source": []
  }
 ],
 "metadata": {
  "kernelspec": {
   "display_name": "Python 3.10.1 64-bit",
   "language": "python",
   "name": "python3"
  },
  "language_info": {
   "codemirror_mode": {
    "name": "ipython",
    "version": 3
   },
   "file_extension": ".py",
   "mimetype": "text/x-python",
   "name": "python",
   "nbconvert_exporter": "python",
   "pygments_lexer": "ipython3",
   "version": "3.10.1"
  },
  "orig_nbformat": 4,
  "vscode": {
   "interpreter": {
    "hash": "26de051ba29f2982a8de78e945f0abaf191376122a1563185a90213a26c5da77"
   }
  }
 },
 "nbformat": 4,
 "nbformat_minor": 2
}
